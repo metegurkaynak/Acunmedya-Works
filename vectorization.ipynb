{
 "cells": [
  {
   "cell_type": "markdown",
   "id": "70b99e64-3562-4815-99d9-1ffc03eb4f99",
   "metadata": {},
   "source": [
    "# TF-IDF Vectorization Nedir? Nasıl Kullanılır?\n",
    "\n",
    "##  Vectorize İşlemi Nedir?"
   ]
  },
  {
   "cell_type": "markdown",
   "id": "35534dd7-d7fe-43a7-88fd-279de18645bf",
   "metadata": {},
   "source": [
    "Doğal dil işleme (NLP) alanında, metin verilerinin sayısal verilere dönüştürülmesi gerekir. Bu işleme vektörleştirme (vectorization) denir. Çünkü makine öğrenmesi algoritmaları sayısal girdilerle çalışır, metinleri doğrudan anlayamaz."
   ]
  },
  {
   "cell_type": "markdown",
   "id": "01ac09d2-d188-46c5-b3f3-13ff7821ab28",
   "metadata": {},
   "source": [
    "Örneğin: \n",
    "\"Ben elma yiyorum\"\n",
    "\"Sen armut yiyorsun\"\n",
    "Bu cümlelerin her bir kelimesi bir özelliğe (feature) dönüştürülerek sayısal vektörler elde edilir."
   ]
  },
  {
   "cell_type": "markdown",
   "id": "f9d01e82-4d30-4173-a2b2-989bf9bb2f6f",
   "metadata": {},
   "source": [
    "##  TF-IDF Nedir?"
   ]
  },
  {
   "cell_type": "markdown",
   "id": "d17f0a1f-0323-4675-8c76-28f8f1bd31c5",
   "metadata": {},
   "source": [
    "TF-IDF, bir kelimenin bir belgede ne kadar önemli olduğunu ölçen bir istatistiksel yöntemdir."
   ]
  },
  {
   "cell_type": "markdown",
   "id": "adf48bdb-fe9f-41cb-ae1b-6d7374c0a454",
   "metadata": {},
   "source": [
    "- TF (Term Frequency): Bir kelimenin belgede kaç kez geçtiği.\n",
    "- IDF (Inverse Document Frequency): O kelimenin tüm belgelerde ne kadar nadir geçtiği."
   ]
  },
  {
   "cell_type": "markdown",
   "id": "99ccd9ce-0ee6-4af8-a857-a5615b6e6554",
   "metadata": {},
   "source": [
    "Formül:\n",
    "```\n",
    "TF-IDF(t, d) = TF(t, d) * log(N / DF(t))\n",
    "```\n",
    "- *t*: terim (kelime)\n",
    "- *d*: belge (doküman)\n",
    "- *N*: toplam belge sayısı\n",
    "- *DF(t)*: t terimini içeren belge sayısı\n"
   ]
  },
  {
   "cell_type": "markdown",
   "id": "27cd6fbd-ff21-435a-aaad-4dfd5c4d1318",
   "metadata": {},
   "source": [
    "##  Python ile TF-IDF Örneği\n",
    "\n",
    "###  Gerekli Kütüphaneler - Python ve Scikit Learn"
   ]
  },
  {
   "cell_type": "markdown",
   "id": "b3461a7c-7ae9-4510-bcc3-809d911edb76",
   "metadata": {},
   "source": [
    "###  Örnek Belgeler\n",
    "```python\n",
    "documents = [\n",
    "    \"Ben elma yiyorum\",\n",
    "    \"Sen armut yiyorsun\",\n",
    "    \"O muz yemeyi seviyor\",\n",
    "    \"Biz elma ve armut yiyoruz\"\n",
    "]\n",
    "```"
   ]
  },
  {
   "cell_type": "markdown",
   "id": "5aa01727-16f6-4bd1-8929-9c352a5efd3f",
   "metadata": {},
   "source": [
    "###  TF-IDF Vektörleştirme\n",
    "```python\n",
    "vectorizer = TfidfVectorizer()\n",
    "tfidf_matrix = vectorizer.fit_transform(documents)\n",
    "```"
   ]
  },
  {
   "cell_type": "markdown",
   "id": "5b1ee191-7e95-46ea-a043-69e443da8aac",
   "metadata": {},
   "source": [
    "### Özellik İsimleri ve Matris\n",
    "```python\n",
    "print(\"Kelimeler:\", vectorizer.get_feature_names_out())\n",
    "print(\"\\nTF-IDF Matrisi:\")\n",
    "print(tfidf_matrix.toarray())\n",
    "```\n"
   ]
  },
  {
   "cell_type": "markdown",
   "id": "1e6bed0b-a5bd-4396-b401-db6a7e921329",
   "metadata": {},
   "source": [
    "### Çıktı Örneği\n",
    "```\n",
    "Kelimeler: ['armut' 'ben' 'biz' 'elma' 'muz' 'o' 'seviyor' 've' 'yemeyi' 'yiyoruz' 'yiyorsun' 'yiyorum']\n",
    "\n",
    "TF-IDF Matrisi:\n",
    "[[0.         0.7071     0.         0.7071     0.         0.         0.         0.         0.         0.         0.         0.        ]\n",
    " [0.7071     0.         0.         0.         0.         0.         0.         0.         0.         0.         0.7071     0.        ]\n",
    " [0.         0.         0.         0.         0.5774     0.5774     0.5774     0.         0.5774     0.         0.         0.        ]\n",
    " [0.5        0.         0.5        0.5        0.         0.         0.         0.5        0.         0.5        0.         0.        ]]\n",
    "```"
   ]
  }
 ],
 "metadata": {
  "kernelspec": {
   "display_name": "Python [conda env:base] *",
   "language": "python",
   "name": "conda-base-py"
  },
  "language_info": {
   "codemirror_mode": {
    "name": "ipython",
    "version": 3
   },
   "file_extension": ".py",
   "mimetype": "text/x-python",
   "name": "python",
   "nbconvert_exporter": "python",
   "pygments_lexer": "ipython3",
   "version": "3.12.7"
  }
 },
 "nbformat": 4,
 "nbformat_minor": 5
}
