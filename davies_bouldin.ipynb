{
 "cells": [
  {
   "cell_type": "markdown",
   "id": "f9be0e09-3c8b-4713-ad56-4f0ae61aa4e7",
   "metadata": {},
   "source": [
    "# Davies Bouldin Nedir?"
   ]
  },
  {
   "cell_type": "markdown",
   "id": "ff15f32f-578f-4e11-b309-d1c52469a070",
   "metadata": {},
   "source": [
    "Davies-Bouldin Index (DBI), kümeleme (clustering) algoritmalarının başarısını değerlendiren bir performans metriğidir.\n",
    "\n",
    "Davies-Bouldin skoru, bir kümeleme sonucunda:\n",
    "\n",
    "    Aynı kümedeki verilerin birbirine ne kadar yakın (iç tutarlılık),\n",
    "\n",
    "    Farklı kümelerin ise birbirinden ne kadar uzak (ayrışma) olduğunu ölçer."
   ]
  },
  {
   "cell_type": "code",
   "execution_count": 1,
   "id": "6cf21535-5b3e-4513-82b0-3ee13c2a3bc7",
   "metadata": {},
   "outputs": [],
   "source": [
    "from sklearn.datasets import make_blobs\n",
    "from sklearn.cluster import KMeans\n",
    "from sklearn.metrics import davies_bouldin_score\n",
    "from sklearn.preprocessing import StandardScaler"
   ]
  },
  {
   "cell_type": "code",
   "execution_count": 3,
   "id": "abe382e7-1294-4839-9841-37681a0c9795",
   "metadata": {},
   "outputs": [],
   "source": [
    "X, _ = make_blobs(n_samples=300, centers=3, cluster_std=0.5, random_state=42)"
   ]
  },
  {
   "cell_type": "code",
   "execution_count": 5,
   "id": "a05e124b-1eb9-41e0-bc09-f8d3e07a2ddd",
   "metadata": {},
   "outputs": [],
   "source": [
    "scaler = StandardScaler()\n",
    "X_scaled = scaler.fit_transform(X)"
   ]
  },
  {
   "cell_type": "code",
   "execution_count": 7,
   "id": "1ec15d30-c2b6-4969-bec1-b94d3ef64bc4",
   "metadata": {},
   "outputs": [
    {
     "name": "stderr",
     "output_type": "stream",
     "text": [
      "C:\\Users\\Mete\\anaconda3\\Lib\\site-packages\\sklearn\\cluster\\_kmeans.py:1429: UserWarning: KMeans is known to have a memory leak on Windows with MKL, when there are less chunks than available threads. You can avoid it by setting the environment variable OMP_NUM_THREADS=2.\n",
      "  warnings.warn(\n"
     ]
    }
   ],
   "source": [
    "kmeans = KMeans(n_clusters=3, random_state=42)\n",
    "labels = kmeans.fit_predict(X_scaled)"
   ]
  },
  {
   "cell_type": "code",
   "execution_count": 9,
   "id": "312a0fde-6caa-4ea5-b2a5-2eae2838db1a",
   "metadata": {},
   "outputs": [
    {
     "name": "stdout",
     "output_type": "stream",
     "text": [
      "Davies-Bouldin Index: 0.1063\n"
     ]
    }
   ],
   "source": [
    "dbi = davies_bouldin_score(X_scaled, labels)\n",
    "print(f\"Davies-Bouldin Index: {dbi:.4f}\")"
   ]
  },
  {
   "cell_type": "markdown",
   "id": "80960f2b-a152-4ca8-9960-087c0211c189",
   "metadata": {},
   "source": [
    "Bu kod, K-Means kümeleme algoritmasının performansını Davies-Bouldin skoru ile değerlendirmeyi amaçlar."
   ]
  }
 ],
 "metadata": {
  "kernelspec": {
   "display_name": "Python [conda env:base] *",
   "language": "python",
   "name": "conda-base-py"
  },
  "language_info": {
   "codemirror_mode": {
    "name": "ipython",
    "version": 3
   },
   "file_extension": ".py",
   "mimetype": "text/x-python",
   "name": "python",
   "nbconvert_exporter": "python",
   "pygments_lexer": "ipython3",
   "version": "3.12.7"
  }
 },
 "nbformat": 4,
 "nbformat_minor": 5
}
