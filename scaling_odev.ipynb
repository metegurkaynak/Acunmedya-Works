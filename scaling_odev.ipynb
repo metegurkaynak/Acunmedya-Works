{
 "cells": [
  {
   "cell_type": "markdown",
   "id": "62414d7c-427f-4b35-a3b1-f273c0eaaae8",
   "metadata": {},
   "source": [
    "# Scalling (Özel Ölçeklendirme)"
   ]
  },
  {
   "cell_type": "markdown",
   "id": "7bf0f06d-5e94-43b9-9b63-1c2f9f9aabc3",
   "metadata": {},
   "source": [
    "## Scaling Nedir?"
   ]
  },
  {
   "cell_type": "markdown",
   "id": "6e93bf4c-dbb0-4b75-87b9-9637486cbac8",
   "metadata": {},
   "source": [
    "Makine öğrenmesinde, özellikler farklı değer aralıklarında olabilir. Örneğin bir sütun 0 ile 1000 arasında değer alırken, başka bir sütun sadece 0 ile 1 arasında olabilir. Bu fark, özellikle mesafeye dayalı algoritmalarda (KNN, K-Means, SVM vb.) modelin başarısını olumsuz etkiler.\n",
    "\n",
    "Bu nedenle, özellik ölçekleme, tüm verileri benzer aralıklara çekerek modelin daha doğru öğrenmesini sağlayan önemli bir adımdır."
   ]
  },
  {
   "cell_type": "markdown",
   "id": "d602c553-56cf-4196-b2a6-fd5ca6450be6",
   "metadata": {},
   "source": [
    "## Neden Gereklidir?"
   ]
  },
  {
   "cell_type": "markdown",
   "id": "b2825eb4-261c-46ed-aef6-79fe69a31131",
   "metadata": {},
   "source": [
    "Verilerin farklı ölçeklerde olması algoritmaların performansını düşürebilir (örneğin mesafe tabanlı algoritmalar: KNN, K-Means, SVM).\n",
    "\n",
    "Modelin daha hızlı ve sağlıklı öğrenmesini sağlar.\n",
    "\n",
    "Gradient descent gibi optimizasyon tekniklerinin düzgün çalışması için önemlidir."
   ]
  },
  {
   "cell_type": "markdown",
   "id": "03af0301-ee35-4f1a-a69c-f3fc7025591e",
   "metadata": {},
   "source": [
    "## Başlıca Ölçekleme Yöntemleri"
   ]
  },
  {
   "cell_type": "markdown",
   "id": "7fcd2690-cf25-48a0-87b9-d5ab4ff34674",
   "metadata": {},
   "source": [
    "## 1. Min-Max Scaling (Normalization)"
   ]
  },
  {
   "cell_type": "markdown",
   "id": "b0d897d7-fee9-48ae-bd09-d171bb3f30fa",
   "metadata": {},
   "source": [
    "Verileri genellikle 0 ile 1 arasına çeker.\n",
    "\n",
    "Özellikle dağılımı düzgün ve aykırı değeri az olan veriler için uygundur.\n",
    "\n",
    "Küçük aralıklara sıkıştırarak tüm verilerin aynı düzeyde katkı sağlamasını sağlar."
   ]
  },
  {
   "cell_type": "markdown",
   "id": "0eb101a6-937c-48e1-84ec-bf88dc511f90",
   "metadata": {},
   "source": [
    "## 2. Standardization (Z-score normalization)"
   ]
  },
  {
   "cell_type": "markdown",
   "id": "69974003-84d7-49c8-a138-5276b2a59c56",
   "metadata": {},
   "source": [
    "Verilerin ortalamasını 0, standart sapmasını 1 yapacak şekilde dönüştürür.\n",
    "\n",
    "Dağılımı normal olan veriler için daha uygundur.\n",
    "\n",
    "Aykırı değerlere biraz duyarlıdır ama genelde performanslıdır."
   ]
  },
  {
   "cell_type": "markdown",
   "id": "242c1071-d5c7-41d7-be80-6f5db895d866",
   "metadata": {},
   "source": [
    "## 3. Robust Scaling"
   ]
  },
  {
   "cell_type": "markdown",
   "id": "6467b5e3-0b1c-4e83-98f8-3100bfffa4c9",
   "metadata": {},
   "source": [
    "Ortanca (median) ve çeyrek değer aralığı (IQR) kullanır.\n",
    "\n",
    "Aykırı değerlere karşı dayanıklıdır.\n",
    "\n",
    "Özellikle verilerde uç değerler (outlier) varsa tercih edilir."
   ]
  }
 ],
 "metadata": {
  "kernelspec": {
   "display_name": "Python [conda env:base] *",
   "language": "python",
   "name": "conda-base-py"
  },
  "language_info": {
   "codemirror_mode": {
    "name": "ipython",
    "version": 3
   },
   "file_extension": ".py",
   "mimetype": "text/x-python",
   "name": "python",
   "nbconvert_exporter": "python",
   "pygments_lexer": "ipython3",
   "version": "3.12.7"
  }
 },
 "nbformat": 4,
 "nbformat_minor": 5
}
