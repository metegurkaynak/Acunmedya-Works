{
 "cells": [
  {
   "cell_type": "code",
   "execution_count": 8,
   "id": "c62de2e9-e6a0-4fbf-b40a-415a91195b23",
   "metadata": {},
   "outputs": [],
   "source": [
    "import pandas as pd\n",
    "import numpy as np"
   ]
  },
  {
   "cell_type": "markdown",
   "id": "8efa291c-a181-4983-8f70-7b20cfdd6a5b",
   "metadata": {},
   "source": [
    "# Kullanılmak üzere örnek data frameler "
   ]
  },
  {
   "cell_type": "code",
   "execution_count": 13,
   "id": "429637ac-6325-4d16-8cf2-820c3bd5f275",
   "metadata": {},
   "outputs": [],
   "source": [
    "data = {\n",
    "    \"Rakam\" : [1,2,3,4,5],\n",
    "    \"Sayi\" :  [10,20,30,40,50],\n",
    "    \"Karışık\" : [100,np.nan,200,300,499],\n",
    "    \"Harf\" : [\"a\",\"b\",\"c\",\"d\",\"e\"]\n",
    "}"
   ]
  },
  {
   "cell_type": "code",
   "execution_count": 15,
   "id": "c4bc2c7f-7aa2-4d79-bde2-7de701f98032",
   "metadata": {},
   "outputs": [],
   "source": [
    "df = pd.DataFrame(data)"
   ]
  },
  {
   "cell_type": "markdown",
   "id": "91e40cff-a281-4dfe-be65-58580220cf16",
   "metadata": {},
   "source": [
    "# 1. Fonksiyon head() : İlk birkaç satırı görüntüler."
   ]
  },
  {
   "cell_type": "code",
   "execution_count": 22,
   "id": "4026a0b4-63f2-4869-94f4-856646126d8b",
   "metadata": {},
   "outputs": [
    {
     "name": "stdout",
     "output_type": "stream",
     "text": [
      "   Rakam  Sayi  Karışık Harf\n",
      "0      1    10    100.0    a\n",
      "1      2    20      NaN    b\n",
      "2      3    30    200.0    c\n",
      "3      4    40    300.0    d\n",
      "4      5    50    499.0    e\n"
     ]
    }
   ],
   "source": [
    "print(df.head())"
   ]
  },
  {
   "cell_type": "markdown",
   "id": "21c84f0b-531a-4d39-a3cd-cda4bf3b1a17",
   "metadata": {},
   "source": [
    "# 2. Fonksiyon info() : Data Frame hakkında bilgi verir."
   ]
  },
  {
   "cell_type": "code",
   "execution_count": 27,
   "id": "06c8281a-81fb-4ec4-adec-f53c8e635d61",
   "metadata": {},
   "outputs": [
    {
     "name": "stdout",
     "output_type": "stream",
     "text": [
      "<class 'pandas.core.frame.DataFrame'>\n",
      "RangeIndex: 5 entries, 0 to 4\n",
      "Data columns (total 4 columns):\n",
      " #   Column   Non-Null Count  Dtype  \n",
      "---  ------   --------------  -----  \n",
      " 0   Rakam    5 non-null      int64  \n",
      " 1   Sayi     5 non-null      int64  \n",
      " 2   Karışık  4 non-null      float64\n",
      " 3   Harf     5 non-null      object \n",
      "dtypes: float64(1), int64(2), object(1)\n",
      "memory usage: 292.0+ bytes\n"
     ]
    }
   ],
   "source": [
    "df.info()"
   ]
  },
  {
   "cell_type": "markdown",
   "id": "a2300678-d0e3-461e-96f3-5ef9072fac14",
   "metadata": {},
   "source": [
    "# 3. Fonksiyon describe() : Sayısal verilerin istatistiksel özetini çıkarır."
   ]
  },
  {
   "cell_type": "code",
   "execution_count": 33,
   "id": "2f23524f-1ae1-4ac5-a713-798a880b6aca",
   "metadata": {},
   "outputs": [
    {
     "name": "stdout",
     "output_type": "stream",
     "text": [
      "          Rakam       Sayi     Karışık\n",
      "count  5.000000   5.000000    4.000000\n",
      "mean   3.000000  30.000000  274.750000\n",
      "std    1.581139  15.811388  170.343525\n",
      "min    1.000000  10.000000  100.000000\n",
      "25%    2.000000  20.000000  175.000000\n",
      "50%    3.000000  30.000000  250.000000\n",
      "75%    4.000000  40.000000  349.750000\n",
      "max    5.000000  50.000000  499.000000\n"
     ]
    }
   ],
   "source": [
    "print(df.describe())"
   ]
  },
  {
   "cell_type": "markdown",
   "id": "48e236c3-e2bb-4844-af7a-56958f3a0149",
   "metadata": {},
   "source": [
    "# 4. Fonksiyon isnull() : Eksik verileri kontrol eder (Varsa True, yoksa False yazdırılır)."
   ]
  },
  {
   "cell_type": "code",
   "execution_count": 36,
   "id": "1727c3f9-cb71-47ed-8a48-6aa7044e3dae",
   "metadata": {},
   "outputs": [
    {
     "name": "stdout",
     "output_type": "stream",
     "text": [
      "   Rakam   Sayi  Karışık   Harf\n",
      "0  False  False    False  False\n",
      "1  False  False     True  False\n",
      "2  False  False    False  False\n",
      "3  False  False    False  False\n",
      "4  False  False    False  False\n"
     ]
    }
   ],
   "source": [
    "print(df.isnull())"
   ]
  },
  {
   "cell_type": "markdown",
   "id": "41dec545-0db3-400c-b1ac-681f027f17fd",
   "metadata": {},
   "source": [
    "# 5. Fonksiyon fillna() : Eksik verileri fonksiyon parametresi içine yazılan veri ile doldurur."
   ]
  },
  {
   "cell_type": "code",
   "execution_count": 40,
   "id": "f297e019-369a-48d3-be07-d8ab5b298781",
   "metadata": {},
   "outputs": [
    {
     "name": "stdout",
     "output_type": "stream",
     "text": [
      "   Rakam  Sayi  Karışık Harf\n",
      "0      1    10    100.0    a\n",
      "1      2    20      0.0    b\n",
      "2      3    30    200.0    c\n",
      "3      4    40    300.0    d\n",
      "4      5    50    499.0    e\n"
     ]
    }
   ],
   "source": [
    "df_filled = df.fillna(0)\n",
    "print(df_filled)"
   ]
  },
  {
   "cell_type": "markdown",
   "id": "83b8f037-54a0-4a0f-82c8-8f26b94dc1da",
   "metadata": {},
   "source": [
    "# 6. Fonksiyon dropna() : Eksik verileri içeren satırları kaldırır."
   ]
  },
  {
   "cell_type": "code",
   "execution_count": 44,
   "id": "0de508d3-ef3e-43e9-93f0-d1580e7fc31d",
   "metadata": {},
   "outputs": [
    {
     "name": "stdout",
     "output_type": "stream",
     "text": [
      "   Rakam  Sayi  Karışık Harf\n",
      "0      1    10    100.0    a\n",
      "2      3    30    200.0    c\n",
      "3      4    40    300.0    d\n",
      "4      5    50    499.0    e\n"
     ]
    }
   ],
   "source": [
    "df_dropped = df.dropna()\n",
    "print(df_dropped)"
   ]
  },
  {
   "cell_type": "markdown",
   "id": "d6ece894-c175-4d8e-a2a9-bc7f61a253d4",
   "metadata": {},
   "source": [
    "# 7. Fonksiyon groupby() : Belirli bir sütun üzerinde gruplandırma ve işlemler yapar."
   ]
  },
  {
   "cell_type": "code",
   "execution_count": 48,
   "id": "6ace43a4-9874-419a-a8ef-e4288e15f9ca",
   "metadata": {},
   "outputs": [
    {
     "name": "stdout",
     "output_type": "stream",
     "text": [
      "      Rakam  Karışık Harf\n",
      "Sayi                     \n",
      "10        1    100.0    a\n",
      "20        2      0.0    b\n",
      "30        3    200.0    c\n",
      "40        4    300.0    d\n",
      "50        5    499.0    e\n"
     ]
    }
   ],
   "source": [
    "grouped = df.groupby(\"Sayi\").sum()\n",
    "print(grouped)"
   ]
  },
  {
   "cell_type": "markdown",
   "id": "f514d6b9-ee1d-4340-aee0-1aed26ddb4b8",
   "metadata": {},
   "source": [
    "# 8. Fonksiyon apply() : Belirli bir sütün üzerinde özel fonksiyonlar uygulanmasını sağlar."
   ]
  },
  {
   "cell_type": "code",
   "execution_count": 56,
   "id": "38d352c6-65b7-497a-b120-025b34d8ba04",
   "metadata": {},
   "outputs": [
    {
     "name": "stdout",
     "output_type": "stream",
     "text": [
      "   Rakam  Sayi  Karışık Harf  Rakam_kare\n",
      "0      1    10    100.0    a           1\n",
      "1      2    20      NaN    b           4\n",
      "2      3    30    200.0    c           9\n",
      "3      4    40    300.0    d          16\n",
      "4      5    50    499.0    e          25\n"
     ]
    }
   ],
   "source": [
    "def square(x):\n",
    "    return x ** 2\n",
    "df[\"Rakam_kare\"] = df[\"Rakam\"].apply(square)\n",
    "print(df)"
   ]
  },
  {
   "cell_type": "markdown",
   "id": "3bbec92a-4167-4afe-8ad9-e37aba3bb93d",
   "metadata": {},
   "source": [
    "# 9. Fonksiyon sort_values() : Verileri belirli bir sütuna göre sıralar."
   ]
  },
  {
   "cell_type": "code",
   "execution_count": 60,
   "id": "df64d678-b629-4f07-8779-0c34b89c08fa",
   "metadata": {},
   "outputs": [
    {
     "name": "stdout",
     "output_type": "stream",
     "text": [
      "   Rakam  Sayi  Karışık Harf  Rakam_kare\n",
      "4      5    50    499.0    e          25\n",
      "3      4    40    300.0    d          16\n",
      "2      3    30    200.0    c           9\n",
      "1      2    20      NaN    b           4\n",
      "0      1    10    100.0    a           1\n"
     ]
    }
   ],
   "source": [
    "df_sorted = df.sort_values(by=\"Sayi\", ascending=False)\n",
    "print(df_sorted)"
   ]
  },
  {
   "cell_type": "markdown",
   "id": "d6c1d321-4a2c-4c6a-9501-9bfc7be02e5a",
   "metadata": {},
   "source": [
    "# 10. Fonksiyon merge(): İki data frame'i birleştirir."
   ]
  },
  {
   "cell_type": "code",
   "execution_count": 67,
   "id": "a958e221-00fd-4252-9173-0b4a9c1656e1",
   "metadata": {},
   "outputs": [
    {
     "name": "stdout",
     "output_type": "stream",
     "text": [
      "   Rakam_x  Sayi  Karışık Harf  Rakam_kare  Rakam_y\n",
      "0        1    10    100.0    a           1      NaN\n",
      "1        2    20      NaN    b           4      NaN\n",
      "2        3    30    200.0    c           9      NaN\n",
      "3        4    40    300.0    d          16      NaN\n",
      "4        5    50    499.0    e          25      NaN\n"
     ]
    }
   ],
   "source": [
    "df2 = pd.DataFrame({\"Rakam\" : [2,3], \"Sayi\" : [100,200]})\n",
    "df_merged = pd.merge(df,df2,on=\"Sayi\" , how= \"left\")\n",
    "print(df_merged)"
   ]
  }
 ],
 "metadata": {
  "kernelspec": {
   "display_name": "Python [conda env:base] *",
   "language": "python",
   "name": "conda-base-py"
  },
  "language_info": {
   "codemirror_mode": {
    "name": "ipython",
    "version": 3
   },
   "file_extension": ".py",
   "mimetype": "text/x-python",
   "name": "python",
   "nbconvert_exporter": "python",
   "pygments_lexer": "ipython3",
   "version": "3.12.7"
  }
 },
 "nbformat": 4,
 "nbformat_minor": 5
}
