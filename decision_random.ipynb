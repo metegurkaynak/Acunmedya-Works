{
 "cells": [
  {
   "cell_type": "markdown",
   "id": "ba8bdd5c-3a72-4fd0-b112-1b93c72a325b",
   "metadata": {},
   "source": [
    "# Decision Tree ve Random Forest Algoritmaları"
   ]
  },
  {
   "cell_type": "markdown",
   "id": "86467f24-857e-4933-b2f5-dcd2165d1690",
   "metadata": {},
   "source": [
    "## 1. Decision Tree (Karar Ağacı)"
   ]
  },
  {
   "cell_type": "markdown",
   "id": "398e0fff-56af-4422-bcae-113929e12e1e",
   "metadata": {},
   "source": [
    "### 1.1 Tanım"
   ]
  },
  {
   "cell_type": "markdown",
   "id": "59203613-3d21-4398-b328-b46eae9b7216",
   "metadata": {},
   "source": [
    "Decision Tree (Karar Ağacı), veri madenciliği ve makine öğrenmesinde kullanılan, verileri sınıflandırmak veya regresyon analizi yapmak için kullanılan hiyerarşik bir yapıdır. Ağaç yapısındaki her düğüm bir karar kuralını, dallar ise bu kuralların sonuçlarını temsil eder."
   ]
  },
  {
   "cell_type": "markdown",
   "id": "53ea43de-4935-4ce0-bc0e-d7d38151944c",
   "metadata": {},
   "source": [
    "### 1.2 Çalışma Prensibi"
   ]
  },
  {
   "cell_type": "markdown",
   "id": "0e50d6c5-792b-4c23-8a4d-21831ff15957",
   "metadata": {},
   "source": [
    "1. Kök düğümden başlayarak en iyi bölme özelliği seçilir\n",
    "2. Veri seti bu özelliğe göre alt kümelere ayrılır\n",
    "3. Bu işlem her alt küme için tekrarlanır (recursive partitioning)\n",
    "4. Durma kriteri sağlanınca yaprak düğümler oluşur"
   ]
  },
  {
   "cell_type": "markdown",
   "id": "d34823eb-82d0-478a-8f56-4f04721cb41b",
   "metadata": {},
   "source": [
    "### 1.3 Temel Kavramlar"
   ]
  },
  {
   "cell_type": "markdown",
   "id": "7c422af5-7fc9-47cf-9248-e68f841975bb",
   "metadata": {},
   "source": [
    "- **Düğüm tipleri**:\n",
    "  - Kök düğüm (tüm veri seti)\n",
    "  - İç düğümler (karar noktaları)\n",
    "  - Yaprak düğümler (sonuçlar)\n",
    "\n",
    "- **Bölme kriterleri**:\n",
    "  - Gini indeksi: Safsızlık ölçütü (0-0.5 arası)\n",
    "  - Entropi/Information Gain: Bilgi kazancı ölçütü\n",
    "\n",
    "- **Overfitting önleme**:\n",
    "  - Pre-pruning (max_depth, min_samples_split)\n",
    "  - Post-pruning (cost complexity pruning)"
   ]
  },
  {
   "cell_type": "markdown",
   "id": "68a4baf1-98c0-4fd5-9c64-69a9417de30c",
   "metadata": {},
   "source": [
    "### 1.4 Avantajlar ve Dezavantajlar"
   ]
  },
  {
   "cell_type": "markdown",
   "id": "9c8706fa-6214-4198-b675-aea52e4d8ad7",
   "metadata": {},
   "source": [
    "**Avantajlar:**\n",
    "- Kolay yorumlanabilir\n",
    "- Veri ön işleme gereksinimi az\n",
    "- Hem kategorik hem sayısal verilerle çalışabilir\n",
    "\n",
    "**Dezavantajlar:**\n",
    "- Aşırı öğrenmeye eğilimli\n",
    "- Küçük veri değişikliklerine duyarlı\n",
    "- Global optimumu garantilemez\n"
   ]
  },
  {
   "cell_type": "markdown",
   "id": "47604cf1-7eb4-473d-b289-4b6c66517ba8",
   "metadata": {},
   "source": [
    "## 2. Random Forest (Rastgele Orman)"
   ]
  },
  {
   "cell_type": "markdown",
   "id": "b3149c2e-8f01-4e4a-afb9-cb4d3b7520ce",
   "metadata": {},
   "source": [
    "### 2.1 Tanım"
   ]
  },
  {
   "cell_type": "markdown",
   "id": "d51e48b7-b28e-4e20-8ec1-b75ec55bf0e5",
   "metadata": {},
   "source": [
    "Random Forest, çok sayıda karar ağacının oluşturduğu bir ensemble (topluluk) öğrenme yöntemidir. Her ağaç farklı bootstrap örnekleriyle eğitilir ve sonuçlar birleştirilir."
   ]
  },
  {
   "cell_type": "markdown",
   "id": "b16fc1c4-b9dc-4526-a974-6048a5231359",
   "metadata": {},
   "source": [
    "### 2.2 Çalışma Prensibi"
   ]
  },
  {
   "cell_type": "markdown",
   "id": "c530b4a8-83f3-4f8d-8982-ec71a297b549",
   "metadata": {},
   "source": [
    "1. Veri setinden rastgele örnekler seçilir (bootstrap)\n",
    "2. Her ağaç için rastgele özellik alt kümesi belirlenir\n",
    "3. Ağaçlar tam derinliğe kadar büyütülür\n",
    "5. Tahminlerde majority voting (sınıflandırma) veya ortalama (regresyon) kullanılır"
   ]
  },
  {
   "cell_type": "markdown",
   "id": "59a2fbd8-c633-4a61-b21d-87e58450c2c5",
   "metadata": {},
   "source": [
    "### 2.3 Ensemble Learning Kavramı"
   ]
  },
  {
   "cell_type": "markdown",
   "id": "da0ff02b-99e7-4915-a84d-4307a7cb44b4",
   "metadata": {},
   "source": [
    "**Bagging (Bootstrap Aggregating):**\n",
    "- Temel fikir: Çok sayıda yüksek varyanslı, düşük yanlı tahmincinin birleştirilmesi\n",
    "- Her model farklı bootstrap örnekleriyle eğitilir\n",
    "- Tahminlerin ortalaması/çoğunluğu alınır"
   ]
  },
  {
   "cell_type": "markdown",
   "id": "6066d1e8-1ff9-4efe-9920-c96793f04bc4",
   "metadata": {},
   "source": [
    "### 2.4 Avantajlar ve Dezavantajlar"
   ]
  },
  {
   "cell_type": "markdown",
   "id": "a2ad9d38-d421-43e4-8fb0-76641529ef47",
   "metadata": {},
   "source": [
    "**Dezavantajlar:**\n",
    "- Aşırı öğrenmeye karşı dirençli\n",
    "- Yüksek doğruluk oranı\n",
    "- Eksik verilere karşı dayanıklı\n",
    "\n",
    "**Dezavantajlar:**\n",
    "- Yorumlanabilirlik düşük\n",
    "- Büyük verilerde yavaş çalışabilir\n",
    "- Tek ağaçlara göre daha fazla bellek kullanır"
   ]
  },
  {
   "cell_type": "markdown",
   "id": "316fa1b6-2557-4012-8ac2-901b404dda47",
   "metadata": {},
   "source": [
    "## 3. Karşılaştırma"
   ]
  },
  {
   "cell_type": "markdown",
   "id": "690416c5-380b-424c-9c39-32d296e8df81",
   "metadata": {},
   "source": [
    "| Kriter               | Decision Tree         | Random Forest         |\n",
    "|----------------------|----------------------|----------------------|\n",
    "| Model Karmaşıklığı   | Basit                | Karmaşık             |\n",
    "| Yorumlanabilirlik    | Yüksek               | Düşük                |\n",
    "| Eğitim Süresi        | Kısa                 | Uzun                 |\n",
    "| Tahmin Süresi        | Çok hızlı            | Orta hızda           |\n",
    "| Aşırı Öğrenme        | Eğilimli             | Dirençli             |\n",
    "| Varsayılan Performans| Düşük-Orta           | Yüksek               |"
   ]
  },
  {
   "cell_type": "markdown",
   "id": "2981fd87-3d26-4de0-ba67-e34f3a6559ab",
   "metadata": {},
   "source": [
    "## 4. Uygulama Alanları"
   ]
  },
  {
   "cell_type": "markdown",
   "id": "137fdd13-95d1-430a-9f9e-07a3cf265393",
   "metadata": {},
   "source": [
    "**Decision Tree:**\n",
    "- Müşteri segmentasyonu\n",
    "- Kredi risk analizi\n",
    "- Tıbbi teşhis sistemleri\n",
    "\n",
    "**Random Forest:**\n",
    "- Biyoinformatik uygulamaları\n",
    "- Finansal dolandırıcılık tespiti\n",
    "- Görüntü sınıflandırma\n",
    "- Öneri sistemleri"
   ]
  },
  {
   "cell_type": "code",
   "execution_count": null,
   "id": "af6345c0-0413-48cc-9690-6f4c36274706",
   "metadata": {},
   "outputs": [],
   "source": []
  }
 ],
 "metadata": {
  "kernelspec": {
   "display_name": "Python [conda env:base] *",
   "language": "python",
   "name": "conda-base-py"
  },
  "language_info": {
   "codemirror_mode": {
    "name": "ipython",
    "version": 3
   },
   "file_extension": ".py",
   "mimetype": "text/x-python",
   "name": "python",
   "nbconvert_exporter": "python",
   "pygments_lexer": "ipython3",
   "version": "3.12.7"
  }
 },
 "nbformat": 4,
 "nbformat_minor": 5
}
